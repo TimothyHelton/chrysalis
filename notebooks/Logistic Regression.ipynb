{
 "cells": [
  {
   "cell_type": "markdown",
   "metadata": {},
   "source": [
    "Timothy Helton\n",
    "\n",
    "2018-06-26"
   ]
  },
  {
   "cell_type": "markdown",
   "metadata": {},
   "source": [
    "# Background\n",
    "\n",
    "- This algorithm is ideal for **binary** classification problems."
   ]
  },
  {
   "cell_type": "markdown",
   "metadata": {},
   "source": [
    "## Nomenclature\n",
    "\n",
    "- b: intercept parameter\n",
    "- J: cost function\n",
    "- L: loss function\n",
    "- w: weight parameters\n",
    "- X: matrix of all input vector instances\n",
    "    - each column is an instance\n",
    "- x: input vector for single instance\n",
    "- $\\hat{y}$: predicted output\n",
    "- $\\sigma$: sigmoid function or logistic function\n",
    "    - $\\sigma(z) = \\frac{1}{1 + e^{-z}}$"
   ]
  },
  {
   "cell_type": "markdown",
   "metadata": {},
   "source": [
    "## Process\n",
    "1. A forward pass through the model is used to calculate the cost function.\n",
    "1. A backwards pass through the model evaluating the gradient facilitates the training of parameters (w and b).\n",
    "1. Once the parameters are trained the model is evaluated against the test dataset.\n",
    "1. If satisfied with the results from the training set apply the model to the validation set.\n",
    "1. Finally, the model is applied to unclassified data."
   ]
  },
  {
   "cell_type": "markdown",
   "metadata": {},
   "source": [
    "## Computational Graph\n",
    "\n",
    "![Logistic Regression Computational Graph](images/logistic_regression_graph.png)"
   ]
  },
  {
   "cell_type": "markdown",
   "metadata": {},
   "source": [
    "# Parameters\n",
    "\n",
    "- b: intercept parameter\n",
    "    - $\\in\\mathbb{R}$\n",
    "- w: weight parameters\n",
    "    - $\\in\\mathbb{R}^{n_x}$"
   ]
  },
  {
   "cell_type": "markdown",
   "metadata": {},
   "source": [
    "# Activation Function"
   ]
  },
  {
   "cell_type": "markdown",
   "metadata": {},
   "source": [
    "The ***sigmoid*** or ***logistic*** function used to be the standard.\n",
    "    - On the edges of the function the gradient near zero results in slow learning.\n",
    "    - Now the ReLU function outperforms the sigmoid.\n",
    "    \n",
    "**Sigmoid Function**\n",
    "![Sigmoid Function](images/sigmoid_function.png)\n",
    "\n",
    "**Rectified Linear Unit (ReLU)**\n",
    "![ReLU Function](images/ReLU_function.png)"
   ]
  },
  {
   "cell_type": "markdown",
   "metadata": {},
   "source": [
    "# Cost Function\n",
    "\n",
    "- The average of all the loss functions.\n",
    "- Used to train the parameters w and b.\n",
    "    - Influence of b on L\n",
    "        - $\\frac{\\partial L}{\\partial b}$\n",
    "    - Influence of w on L\n",
    "        - $\\frac{\\partial L}{\\partial w_i}$\n",
    "        \n",
    "$$J(w, b) = \\frac{1}{m} \\sum_{i=1}^{m} L(a, y)$$"
   ]
  },
  {
   "cell_type": "markdown",
   "metadata": {},
   "source": [
    "## Loss Function\n",
    "$L(a, y) = -(y \\log{a} + (1 - y) \\log{(1 - a)})$"
   ]
  },
  {
   "cell_type": "markdown",
   "metadata": {},
   "source": [
    "# Backpropagation"
   ]
  },
  {
   "cell_type": "markdown",
   "metadata": {},
   "source": [
    "## Derivative of Loss with respect to Activation"
   ]
  },
  {
   "cell_type": "markdown",
   "metadata": {},
   "source": [
    "$L(a, y) = -(y \\log{a} + (1 - y) \\log{(1 - a)})$\n",
    "\n",
    "$\\frac{dL}{da} = -y \\log(a) \\frac{d}{da} - (1 - y) \\log(1 - a) \\frac{d}{da}$\n",
    "\n",
    "1. $y \\log(a) \\frac{d}{da} = \\frac{y}{a}$\n",
    "\n",
    "1. $(1 - y) \\log(1 - a) \\frac{d}{da}$\n",
    "    - Requires the Chain Rule\n",
    "        - $f(g(a)) = (1 - y)\\log(1 - a)$\n",
    "        - $f(g) = (1 - y)\\log(g)$\n",
    "        - $g(a) = 1 - a$\n",
    "        - $f \\frac{d}{dg} = \\frac{1 - y}{g}$\n",
    "        - $g \\frac{d}{da} = -1$\n",
    "        - $f \\frac{d}{dg} * g \\frac{d}{da} = - \\frac{1 - y}{g} = - \\frac{1 - y}{1 - a}$\n",
    "\n",
    "$\\frac{dL}{da} = -\\frac{y}{a} - -\\frac{1 - y}{1 - a}$\n",
    "\n",
    "$\\frac{dL}{da} = \\frac{1 - y}{1 - a} - \\frac{y}{a}$"
   ]
  },
  {
   "cell_type": "markdown",
   "metadata": {},
   "source": [
    "## Derivative of Activation with respect to Model"
   ]
  },
  {
   "cell_type": "markdown",
   "metadata": {},
   "source": [
    "$\\frac{da}{dz} = \\sigma \\frac{d}{dz}$\n",
    "\n",
    "$\\frac{da}{dz} = (1 + e^{-z})^{-1} \\frac{d}{dz}$\n",
    "\n",
    "1. Requires Chain Rule\n",
    "    - $f(g) = g^{-1}$\n",
    "    - $g(z) = 1 + e^{-z}$\n",
    "    - $f(g) \\frac{d}{dg} = -g^{-2}$\n",
    "    - $g(z) \\frac{d}{dz} = -e^{-z}$\n",
    "    - $f \\frac{d}{dg} * g \\frac{d}{dz} = \\frac{e^{-z}}{(1 + e^{-z})^2}$\n",
    "\n",
    "Trick: Add and subtract 1 to the numerator.\n",
    "\n",
    "$\\frac{e^{-z} + 1 - 1}{(1 + e^{-z})^2}$\n",
    "\n",
    "$\\frac{1 + e^{-z}}{(1 + e^{-z})^2} - \\frac{1}{(1 + e^{-z})^2}$\n",
    "\n",
    "$\\frac{1}{(1 + e^{-z})} - \\frac{1}{(1 + e^{-z})^2}$\n",
    "\n",
    "$\\frac{1}{(1 + e^{-z})} \\Big( 1 - \\frac{1}{(1 + e^{-z})} \\Big)$\n",
    "\n",
    "$a(1 - a)$"
   ]
  },
  {
   "cell_type": "markdown",
   "metadata": {},
   "source": [
    "## Derivative of Loss with respect to Model"
   ]
  },
  {
   "cell_type": "markdown",
   "metadata": {},
   "source": [
    "$\\frac{dL}{dz} = \\frac{dL}{da} \\frac{da}{dz}$\n",
    "\n",
    "$\\frac{dL}{dz} = \\Big( \\frac{1 - y}{1 - a} - \\frac{y}{a} \\Big) a(1 - a)$\n",
    "\n",
    "$\\frac{dL}{dz} = \\frac{a(1 - a)(1 - y)}{1 - a} - \\frac{a(1 - a)y}{a}$\n",
    "\n",
    "$\\frac{dL}{dz} = a(1 - y) - y(1 - a)$\n",
    "\n",
    "$\\frac{dL}{dz} = a - ay - y + ay$\n",
    "\n",
    "$\\frac{dL}{dz} = a - y$"
   ]
  },
  {
   "cell_type": "markdown",
   "metadata": {},
   "source": [
    "## Derivative of Model with respect to Parameters"
   ]
  },
  {
   "cell_type": "markdown",
   "metadata": {},
   "source": [
    "$z = wx + b$\n",
    "\n",
    "$\\frac{\\partial z}{\\partial w} = x$\n",
    "\n",
    "$\\frac{\\partial z}{\\partial b} = 1$"
   ]
  },
  {
   "cell_type": "markdown",
   "metadata": {},
   "source": [
    "## Derivative of Loss with respect to Parameters"
   ]
  },
  {
   "cell_type": "markdown",
   "metadata": {},
   "source": [
    "**w**\n",
    "\n",
    "$\\frac{\\partial L}{\\partial w} = \\frac{dL}{da} \\frac{da}{dz} \\frac{\\partial z}{\\partial w}$\n",
    "\n",
    "$\\frac{\\partial L}{\\partial w} = \\frac{dL}{dz} \\frac{\\partial z}{\\partial w}$\n",
    "\n",
    "$\\frac{\\partial L}{\\partial w} = (a - y) x$\n",
    "\n",
    "$\\frac{\\partial L}{\\partial w} = x(a - y)$\n",
    "\n",
    "\n",
    "**b**\n",
    "\n",
    "$\\frac{\\partial L}{\\partial b} = \\frac{dL}{da} \\frac{da}{dz} \\frac{\\partial z}{\\partial b}$\n",
    "\n",
    "$\\frac{\\partial L}{\\partial b} = \\frac{dL}{dz} \\frac{\\partial z}{\\partial b}$\n",
    "\n",
    "$\\frac{\\partial L}{\\partial b} = (a - y) 1$\n",
    "\n",
    "$\\frac{\\partial L}{\\partial b} = (a - y)$\n"
   ]
  },
  {
   "cell_type": "markdown",
   "metadata": {},
   "source": [
    "# Model\n",
    "\n",
    "- $\\hat{y}$: predicted output\n",
    "    - probability that y is equal to 1 given x\n",
    "        - $\\hat{y} = P(y=1 | x)$\n",
    "    - apply the sigmoid function to return a value between 0 and 1\n",
    "        - $\\hat{y} = \\sigma(w^{T}x + b)$"
   ]
  }
 ],
 "metadata": {
  "language_info": {
   "name": "python",
   "pygments_lexer": "ipython3"
  }
 },
 "nbformat": 4,
 "nbformat_minor": 1
}
