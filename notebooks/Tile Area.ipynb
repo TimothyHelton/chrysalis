{
 "cells": [
  {
   "cell_type": "markdown",
   "metadata": {},
   "source": [
    "# Tile Area\n",
    "\n",
    "Timothy Helton\n",
    "\n",
    "2018-10-31"
   ]
  },
  {
   "cell_type": "markdown",
   "metadata": {},
   "source": [
    "## Background\n",
    "\n",
    "Given a rectangle return indices of tiles of a prescribed size.\n",
    "- If the final row of tiles exceeds the bounds to the rectangle then\n",
    "the tile will be clipped at the boundary."
   ]
  },
  {
   "cell_type": "markdown",
   "metadata": {},
   "source": [
    "## Imports"
   ]
  },
  {
   "cell_type": "code",
   "execution_count": 1,
   "metadata": {},
   "outputs": [],
   "source": [
    "from typing import Tuple, Union\n",
    "\n",
    "from matplotlib.lines import Line2D\n",
    "import matplotlib.patches as patches\n",
    "from matplotlib.path import Path\n",
    "import matplotlib.pyplot as plt\n",
    "import numpy as np\n",
    "import seaborn as sns\n",
    "from scipy import spatial"
   ]
  },
  {
   "cell_type": "markdown",
   "metadata": {},
   "source": [
    "## Format Notebook"
   ]
  },
  {
   "cell_type": "code",
   "execution_count": 2,
   "metadata": {},
   "outputs": [],
   "source": [
    "%matplotlib inline\n",
    "\n",
    "from IPython.core.interactiveshell import InteractiveShell\n",
    "InteractiveShell.ast_node_interactivity = \"all\""
   ]
  },
  {
   "cell_type": "markdown",
   "metadata": {},
   "source": [
    "## Functions"
   ]
  },
  {
   "cell_type": "code",
   "execution_count": 3,
   "metadata": {},
   "outputs": [],
   "source": [
    "def draw_rectangle(array: np.array, tile_points: Union[np.array, None]=None,\n",
    "                   tile_offset: Union[np.array, None]=None):\n",
    "    \"\"\"Draw rectangle given two corners.\"\"\"\n",
    "    def draw_points(pts: np.array, marker: str='o', color: str='b'):\n",
    "        for n, p in enumerate(pts):\n",
    "            ax.scatter(p[:, 0], p[:, 1], marker=marker, c=color)\n",
    "            \n",
    "    fig = plt.figure('Age Time Plot', figsize=(5, 5),                          \n",
    "                     facecolor='white', edgecolor='black')                      \n",
    "    rows, cols = 1, 1                                                           \n",
    "    ax = plt.subplot2grid((rows, cols), (0, 0))\n",
    "\n",
    "    patch = patches.PathPatch(path_rectangle(array), alpha=0.3, lw=1)\n",
    "    ax.add_patch(patch)\n",
    "    \n",
    "    if tile_points is not None:\n",
    "        draw_points(tile_points)\n",
    "    if tile_offset is not None:\n",
    "        draw_points(tile_offset, '^', 'r')\n",
    "    \n",
    "    legend_elems = [\n",
    "        patches.Patch(alpha=0.3, edgecolor='k', label='Rectangle'),\n",
    "        Line2D([0], [0], color='k', linestyle='None', marker='o',\n",
    "              label='Tile Vertices', ),\n",
    "        Line2D([0], [0], color='r', linestyle='None', marker='^',\n",
    "              label='Offset Tile Vertices', ),\n",
    "    ]\n",
    "    ax.legend(bbox_to_anchor=(1.5, 1), frameon=False, handles=legend_elems,\n",
    "              loc='upper right')\n",
    "    ax.axis('equal')\n",
    "    sns.despine(top=True, right=True)\n",
    "    plt.show()"
   ]
  },
  {
   "cell_type": "code",
   "execution_count": 4,
   "metadata": {},
   "outputs": [],
   "source": [
    "def path_rectangle(array: np.array):\n",
    "    \"\"\"Define rectangle path from (min_x, min_y, max_x, max_y).\"\"\"\n",
    "    c_min, r_min, c_max, r_max = array.flatten()\n",
    "    verts = [\n",
    "       (c_min, r_min),\n",
    "       (c_min, r_max),\n",
    "       (c_max, r_max),\n",
    "       (c_max, r_min),\n",
    "       (c_min, r_min),\n",
    "    ]\n",
    "    codes = [\n",
    "        Path.MOVETO,\n",
    "        Path.LINETO,\n",
    "        Path.LINETO,\n",
    "        Path.LINETO,\n",
    "        Path.CLOSEPOLY,\n",
    "    ]\n",
    "    return Path(verts, codes)"
   ]
  },
  {
   "cell_type": "code",
   "execution_count": 5,
   "metadata": {},
   "outputs": [],
   "source": [
    "def tile(rectangle: np.array, tile_size: Tuple[int]):\n",
    "    \"\"\"Create tile coordinates.\"\"\"\n",
    "    c_tile, r_tile = tile_size\n",
    "    c_min, r_min, c_max, r_max = rectangle.flatten()\n",
    "    cols = c_max - c_min\n",
    "    rows = r_max - r_min\n",
    "    \n",
    "    col_span = np.arange(c_min, c_max + c_tile, c_tile)\n",
    "    row_span = np.arange(r_min, r_max + r_tile, r_tile)\n",
    "    col_span = tile_boundary(col_span, c_max)\n",
    "    row_span = tile_boundary(row_span, r_max)\n",
    "    \n",
    "    col_pts, row_pts = np.meshgrid(col_span, row_span, sparse=True)\n",
    "\n",
    "    pts = np.empty((col_pts.size, row_pts.size, 2))\n",
    "    for n, col in enumerate(col_pts.flatten()):\n",
    "        pts[n] = np.insert(row_pts, 0, values=col, axis=1)\n",
    "    \n",
    "    return pts"
   ]
  },
  {
   "cell_type": "code",
   "execution_count": 6,
   "metadata": {},
   "outputs": [],
   "source": [
    "def tile_boundary(array: np.array, a_max: int) -> np.array:\n",
    "    \"\"\"Define boundary vertices.\"\"\"\n",
    "    if array[-1] >= a_max:\n",
    "        array[-1] = a_max\n",
    "        return array\n",
    "    else:\n",
    "        return array[:-1]"
   ]
  },
  {
   "cell_type": "code",
   "execution_count": 7,
   "metadata": {},
   "outputs": [],
   "source": [
    "def tile_offset(rectangle: np.array, offset: int,\n",
    "                tile_size: np.array) -> np.array:\n",
    "    \"\"\"Offset tile points to create overlapping tiles.\"\"\"\n",
    "    c_tile, r_tile = tile_size\n",
    "    rec = rectangle.copy()\n",
    "    rec[0] += offset\n",
    "    return tile(rec, tile_size)"
   ]
  },
  {
   "cell_type": "markdown",
   "metadata": {},
   "source": [
    "# Create Rectangle"
   ]
  },
  {
   "cell_type": "markdown",
   "metadata": {},
   "source": [
    "## Rectangle evenly divisible by 2"
   ]
  },
  {
   "cell_type": "code",
   "execution_count": 8,
   "metadata": {},
   "outputs": [
    {
     "data": {
      "image/png": "[encoded data removed]",
      "text/plain": [
       "<Figure size 360x360 with 1 Axes>"
      ]
     },
     "metadata": {},
     "output_type": "display_data"
    }
   ],
   "source": [
    "even_rec = np.array([(0, 0), (6, 6)])\n",
    "draw_rectangle(even_rec)"
   ]
  },
  {
   "cell_type": "markdown",
   "metadata": {},
   "source": [
    "## Rectangle not evenly divisible by 3"
   ]
  },
  {
   "cell_type": "code",
   "execution_count": 9,
   "metadata": {},
   "outputs": [
    {
     "data": {
      "image/png": "[encoded data removed]",
      "text/plain": [
       "<Figure size 360x360 with 1 Axes>"
      ]
     },
     "metadata": {},
     "output_type": "display_data"
    }
   ],
   "source": [
    "odd_rec = np.array([(0, 0), (11, 7)])\n",
    "draw_rectangle(odd_rec)"
   ]
  },
  {
   "cell_type": "markdown",
   "metadata": {},
   "source": [
    "# Tile Rectangle"
   ]
  },
  {
   "cell_type": "markdown",
   "metadata": {},
   "source": [
    "## Even Rectangle"
   ]
  },
  {
   "cell_type": "code",
   "execution_count": 10,
   "metadata": {},
   "outputs": [
    {
     "data": {
      "image/png": "[encoded data removed]",
      "text/plain": [
       "<Figure size 360x360 with 1 Axes>"
      ]
     },
     "metadata": {},
     "output_type": "display_data"
    }
   ],
   "source": [
    "vertices = tile(even_rec, (3, 3))\n",
    "draw_rectangle(even_rec, vertices)"
   ]
  },
  {
   "cell_type": "markdown",
   "metadata": {},
   "source": [
    "## Odd Rectangle"
   ]
  },
  {
   "cell_type": "code",
   "execution_count": 11,
   "metadata": {
    "scrolled": true
   },
   "outputs": [
    {
     "data": {
      "image/png": "[encoded data removed]",
      "text/plain": [
       "<Figure size 360x360 with 1 Axes>"
      ]
     },
     "metadata": {},
     "output_type": "display_data"
    }
   ],
   "source": [
    "vertices = tile(odd_rec, (3, 3))\n",
    "draw_rectangle(odd_rec, vertices)"
   ]
  },
  {
   "cell_type": "markdown",
   "metadata": {},
   "source": [
    "## Offset"
   ]
  },
  {
   "cell_type": "code",
   "execution_count": 12,
   "metadata": {},
   "outputs": [
    {
     "data": {
      "image/png": "[encoded data removed]",
      "text/plain": [
       "<Figure size 360x360 with 1 Axes>"
      ]
     },
     "metadata": {},
     "output_type": "display_data"
    }
   ],
   "source": [
    "patch_size = (3, 3)\n",
    "vertices = tile(odd_rec, patch_size)\n",
    "offset = tile_offset(odd_rec, 1, patch_size)\n",
    "draw_rectangle(odd_rec, vertices, offset)"
   ]
  }
 ],
 "metadata": {
  "kernelspec": {
   "display_name": "Python 3",
   "language": "python",
   "name": "python3"
  },
  "language_info": {
   "codemirror_mode": {
    "name": "ipython",
    "version": 3
   },
   "file_extension": ".py",
   "mimetype": "text/x-python",
   "name": "python",
   "nbconvert_exporter": "python",
   "pygments_lexer": "ipython3",
   "version": "3.6.6"
  },
  "toc": {
   "nav_menu": {},
   "number_sections": true,
   "sideBar": true,
   "skip_h1_title": false,
   "title_cell": "Table of Contents",
   "title_sidebar": "Contents",
   "toc_cell": false,
   "toc_position": {},
   "toc_section_display": true,
   "toc_window_display": false
  }
 },
 "nbformat": 4,
 "nbformat_minor": 2
}
